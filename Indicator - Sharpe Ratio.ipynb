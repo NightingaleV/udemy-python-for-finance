{
 "cells": [
  {
   "cell_type": "markdown",
   "metadata": {},
   "source": [
    "# SHARPE RATION "
   ]
  },
  {
   "cell_type": "markdown",
   "metadata": {},
   "source": [
    "Cim vyssi je tento ukazatel, tím lepší je výkonnost akcie vzhledem ke sve rizikovosti.\n",
    "\n",
    "Sharpeho poměry je třeba porovnávat ve druhé mocnině. Jinak řečeno, Sharpe Ratio 1,0 je čtyřikrát (a nikoliv pouze dvakrát) výhodnější než Sharpe Ratio 0,5. Tento fakt souvisí s matematickým způsobem definice rizika jako směrodatné odchylky, která popisuje, jak se možné hodnoty budoucího výnosu v průměru liší od očekávané (střední) hodnoty. Abychom směrodatnou odchylku snížili o 1/2, je třeba čtyřnásobku času (jak jsme popsali výše, celkové riziko se v čase snižuje) nebo investice musí vykázat čtyřnásobně menší \"kolísání\" své hodnoty. \n",
    "\n",
    "\n",
    "Sharpův poměrový koeficient je měřítkem výkonnosti, který bere v úvahu rizikový profil investice. Jde o průměrnou výkonnost aktiva nad úrovní výnosu bezrizikového aktiva (většinou definovaného například jako výnos pokladniční poukázky). "
   ]
  },
  {
   "cell_type": "code",
   "execution_count": 1,
   "metadata": {
    "collapsed": true
   },
   "outputs": [],
   "source": [
    "import numpy as np\n",
    "import pandas as pd\n",
    "from pandas_datareader import data as wb\n",
    "\n",
    "assets = [\"PG\", \"^GSPC\"]\n",
    "data = pd.DataFrame()\n",
    "for a in assets:\n",
    "    data[a] = wb.DataReader(a, data_source = \"yahoo\", start = \"2012-12-31\", end = \"2016-12-31\")[\"Adj Close\"]"
   ]
  },
  {
   "cell_type": "code",
   "execution_count": 11,
   "metadata": {},
   "outputs": [],
   "source": [
    "returns = np.log(data / data.shift(1))\n",
    "PG_er = 0.081118283176991296"
   ]
  },
  {
   "cell_type": "code",
   "execution_count": 12,
   "metadata": {
    "collapsed": true
   },
   "outputs": [],
   "source": [
    "sharpe = (PG_er - 0.025) / (returns[\"PG\"].std() * (250 ** 0.5))"
   ]
  },
  {
   "cell_type": "code",
   "execution_count": 13,
   "metadata": {},
   "outputs": [
    {
     "data": {
      "text/plain": [
       "0.38519462569925467"
      ]
     },
     "execution_count": 13,
     "metadata": {},
     "output_type": "execute_result"
    }
   ],
   "source": [
    "sharpe"
   ]
  },
  {
   "cell_type": "code",
   "execution_count": null,
   "metadata": {
    "collapsed": true
   },
   "outputs": [],
   "source": []
  }
 ],
 "metadata": {
  "kernelspec": {
   "display_name": "Python 3",
   "language": "python",
   "name": "python3"
  },
  "language_info": {
   "codemirror_mode": {
    "name": "ipython",
    "version": 3
   },
   "file_extension": ".py",
   "mimetype": "text/x-python",
   "name": "python",
   "nbconvert_exporter": "python",
   "pygments_lexer": "ipython3",
   "version": "3.7.1"
  }
 },
 "nbformat": 4,
 "nbformat_minor": 2
}
