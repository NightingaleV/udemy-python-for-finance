{
 "cells": [
  {
   "cell_type": "code",
   "execution_count": 3,
   "metadata": {
    "collapsed": true
   },
   "outputs": [],
   "source": [
    "import numpy as np\n",
    "import pandas as pd\n",
    "from pandas_datareader import data as wb\n",
    "\n",
    "assets = [\"PG\", \"^GSPC\"]\n",
    "data = pd.DataFrame()\n",
    "for a in assets:\n",
    "    data[a] = wb.DataReader(a, data_source = \"yahoo\", start = \"2012-12-31\", end = \"2016-12-31\")[\"Adj Close\"]\n",
    "    \n"
   ]
  },
  {
   "cell_type": "code",
   "execution_count": 4,
   "metadata": {
    "collapsed": true
   },
   "outputs": [],
   "source": [
    "returns = np.log(data / data.shift(1))"
   ]
  },
  {
   "cell_type": "code",
   "execution_count": 6,
   "metadata": {
    "collapsed": true
   },
   "outputs": [],
   "source": [
    "cov = returns.cov() * 250\n",
    "cov_with_market = cov.iloc[0,1]"
   ]
  },
  {
   "cell_type": "code",
   "execution_count": 11,
   "metadata": {
    "collapsed": true
   },
   "outputs": [],
   "source": [
    "market_var = returns[\"^GSPC\"].var() * 250"
   ]
  },
  {
   "cell_type": "markdown",
   "metadata": {},
   "source": [
    "## BETA "
   ]
  },
  {
   "cell_type": "markdown",
   "metadata": {
    "collapsed": true
   },
   "source": [
    "  Větší  beta znamená  větší volatilitu  v  minulosti,  resp. pohyby ve směru portfolia s větší intenzitou, než má samotné portfolio. Toto znamená do budoucna  vyšší  riziko  aktiva vzhledem  k portfoliu  za  předpokladu,  že  tendence  v pohybech aktiva a portfolia budou v budoucnu  zachovány. \n",
    "  \n",
    "  V krátkém období je také mož-né  předpokládat  přibližné  zachování  konstantní  hodnoty  ukazatele  beta,  a  proto  je možné  použit  tento  ukazatel  na  odhadnutí krátkodobého systematického rizika spojeného  se  začleněním  dané  akcie  do  portfolia (vždy je ale potřebné počítat beta individuálně vzhledem ke skutečnému portfoliu investora). Dále se dá předpokládat výrazně zvý-šené  riziko  prudkého  poklesu  ceny  akcie s vysokou hodnotou beta v případě prudkého propadu trhu.  "
   ]
  },
  {
   "cell_type": "code",
   "execution_count": 12,
   "metadata": {},
   "outputs": [
    {
     "data": {
      "text/plain": [
       "0.64621134038613515"
      ]
     },
     "execution_count": 12,
     "metadata": {},
     "output_type": "execute_result"
    }
   ],
   "source": [
    "PG_beta = cov_with_market / market_var\n",
    "PG_beta"
   ]
  },
  {
   "cell_type": "code",
   "execution_count": 13,
   "metadata": {
    "collapsed": true
   },
   "outputs": [],
   "source": [
    "annual_index_returns = returns[\"^GSPC\"].mean() * 250"
   ]
  },
  {
   "cell_type": "markdown",
   "metadata": {
    "collapsed": true
   },
   "source": [
    "## CAPM  -  capital asset pricing model "
   ]
  },
  {
   "cell_type": "markdown",
   "metadata": {},
   "source": [
    "calculation of expected return"
   ]
  },
  {
   "cell_type": "code",
   "execution_count": 14,
   "metadata": {
    "collapsed": true
   },
   "outputs": [],
   "source": [
    "PG_er = 0.025 + PG_beta * (annual_index_returns - 0.025)"
   ]
  },
  {
   "cell_type": "code",
   "execution_count": 15,
   "metadata": {},
   "outputs": [
    {
     "data": {
      "text/plain": [
       "0.081118283176991296"
      ]
     },
     "execution_count": 15,
     "metadata": {},
     "output_type": "execute_result"
    }
   ],
   "source": [
    "PG_er"
   ]
  },
  {
   "cell_type": "code",
   "execution_count": null,
   "metadata": {
    "collapsed": true
   },
   "outputs": [],
   "source": []
  }
 ],
 "metadata": {
  "kernelspec": {
   "display_name": "Python 3",
   "language": "python",
   "name": "python3"
  },
  "language_info": {
   "codemirror_mode": {
    "name": "ipython",
    "version": 3
   },
   "file_extension": ".py",
   "mimetype": "text/x-python",
   "name": "python",
   "nbconvert_exporter": "python",
   "pygments_lexer": "ipython3",
   "version": "3.7.1"
  }
 },
 "nbformat": 4,
 "nbformat_minor": 2
}
