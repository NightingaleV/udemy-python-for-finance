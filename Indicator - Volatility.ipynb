{
 "cells": [
  {
   "cell_type": "markdown",
   "metadata": {},
   "source": [
    "## Calculating the Risk of a Security"
   ]
  },
  {
   "cell_type": "markdown",
   "metadata": {},
   "source": [
    "*Suggested Answers follow (usually there are multiple ways to solve a problem in Python).*"
   ]
  },
  {
   "cell_type": "markdown",
   "metadata": {},
   "source": [
    "Download the data for Microsoft (‘MSFT’) from Google Finance for the period ‘2002-1-1’ until today. <br />\n",
    "Assess the daily and the annual risk of ‘MSFT’. Repeat the exercise for Apple for the same timeframe. "
   ]
  },
  {
   "cell_type": "code",
   "execution_count": 2,
   "metadata": {
    "collapsed": true
   },
   "outputs": [
    {
     "data": {
      "text/html": [
       "<div>\n",
       "<style>\n",
       "    .dataframe thead tr:only-child th {\n",
       "        text-align: right;\n",
       "    }\n",
       "\n",
       "    .dataframe thead th {\n",
       "        text-align: left;\n",
       "    }\n",
       "\n",
       "    .dataframe tbody tr th {\n",
       "        vertical-align: top;\n",
       "    }\n",
       "</style>\n",
       "<table border=\"1\" class=\"dataframe\">\n",
       "  <thead>\n",
       "    <tr style=\"text-align: right;\">\n",
       "      <th></th>\n",
       "      <th>MSFT</th>\n",
       "      <th>AAPL</th>\n",
       "    </tr>\n",
       "    <tr>\n",
       "      <th>Date</th>\n",
       "      <th></th>\n",
       "      <th></th>\n",
       "    </tr>\n",
       "  </thead>\n",
       "  <tbody>\n",
       "    <tr>\n",
       "      <th>2007-01-03</th>\n",
       "      <td>NaN</td>\n",
       "      <td>NaN</td>\n",
       "    </tr>\n",
       "    <tr>\n",
       "      <th>2007-01-04</th>\n",
       "      <td>-0.001676</td>\n",
       "      <td>0.022306</td>\n",
       "    </tr>\n",
       "    <tr>\n",
       "      <th>2007-01-05</th>\n",
       "      <td>-0.005719</td>\n",
       "      <td>-0.007380</td>\n",
       "    </tr>\n",
       "    <tr>\n",
       "      <th>2007-01-08</th>\n",
       "      <td>0.009737</td>\n",
       "      <td>0.004926</td>\n",
       "    </tr>\n",
       "    <tr>\n",
       "      <th>2007-01-09</th>\n",
       "      <td>0.001002</td>\n",
       "      <td>0.079476</td>\n",
       "    </tr>\n",
       "    <tr>\n",
       "      <th>2007-01-10</th>\n",
       "      <td>-0.010064</td>\n",
       "      <td>0.047276</td>\n",
       "    </tr>\n",
       "    <tr>\n",
       "      <th>2007-01-11</th>\n",
       "      <td>0.034463</td>\n",
       "      <td>-0.012341</td>\n",
       "    </tr>\n",
       "    <tr>\n",
       "      <th>2007-01-12</th>\n",
       "      <td>0.016476</td>\n",
       "      <td>-0.012496</td>\n",
       "    </tr>\n",
       "    <tr>\n",
       "      <th>2007-01-16</th>\n",
       "      <td>-0.001603</td>\n",
       "      <td>0.025558</td>\n",
       "    </tr>\n",
       "    <tr>\n",
       "      <th>2007-01-17</th>\n",
       "      <td>-0.001927</td>\n",
       "      <td>-0.022604</td>\n",
       "    </tr>\n",
       "    <tr>\n",
       "      <th>2007-01-18</th>\n",
       "      <td>-0.003221</td>\n",
       "      <td>-0.063949</td>\n",
       "    </tr>\n",
       "    <tr>\n",
       "      <th>2007-01-19</th>\n",
       "      <td>0.003542</td>\n",
       "      <td>-0.006309</td>\n",
       "    </tr>\n",
       "    <tr>\n",
       "      <th>2007-01-22</th>\n",
       "      <td>-0.012615</td>\n",
       "      <td>-0.019170</td>\n",
       "    </tr>\n",
       "    <tr>\n",
       "      <th>2007-01-23</th>\n",
       "      <td>0.000651</td>\n",
       "      <td>-0.012987</td>\n",
       "    </tr>\n",
       "    <tr>\n",
       "      <th>2007-01-24</th>\n",
       "      <td>0.011321</td>\n",
       "      <td>0.012180</td>\n",
       "    </tr>\n",
       "    <tr>\n",
       "      <th>2007-01-25</th>\n",
       "      <td>-0.020800</td>\n",
       "      <td>-0.005666</td>\n",
       "    </tr>\n",
       "    <tr>\n",
       "      <th>2007-01-26</th>\n",
       "      <td>0.004914</td>\n",
       "      <td>-0.009788</td>\n",
       "    </tr>\n",
       "    <tr>\n",
       "      <th>2007-01-29</th>\n",
       "      <td>-0.002290</td>\n",
       "      <td>0.006536</td>\n",
       "    </tr>\n",
       "    <tr>\n",
       "      <th>2007-01-30</th>\n",
       "      <td>-0.001639</td>\n",
       "      <td>-0.004898</td>\n",
       "    </tr>\n",
       "    <tr>\n",
       "      <th>2007-01-31</th>\n",
       "      <td>0.012390</td>\n",
       "      <td>0.002452</td>\n",
       "    </tr>\n",
       "    <tr>\n",
       "      <th>2007-02-01</th>\n",
       "      <td>-0.009769</td>\n",
       "      <td>-0.011494</td>\n",
       "    </tr>\n",
       "    <tr>\n",
       "      <th>2007-02-02</th>\n",
       "      <td>-0.012181</td>\n",
       "      <td>0.000000</td>\n",
       "    </tr>\n",
       "    <tr>\n",
       "      <th>2007-02-05</th>\n",
       "      <td>-0.019399</td>\n",
       "      <td>-0.009959</td>\n",
       "    </tr>\n",
       "    <tr>\n",
       "      <th>2007-02-06</th>\n",
       "      <td>-0.003383</td>\n",
       "      <td>0.002499</td>\n",
       "    </tr>\n",
       "    <tr>\n",
       "      <th>2007-02-07</th>\n",
       "      <td>-0.004755</td>\n",
       "      <td>0.023840</td>\n",
       "    </tr>\n",
       "    <tr>\n",
       "      <th>2007-02-08</th>\n",
       "      <td>-0.003752</td>\n",
       "      <td>0.000000</td>\n",
       "    </tr>\n",
       "    <tr>\n",
       "      <th>2007-02-09</th>\n",
       "      <td>-0.009615</td>\n",
       "      <td>-0.033874</td>\n",
       "    </tr>\n",
       "    <tr>\n",
       "      <th>2007-02-12</th>\n",
       "      <td>-0.001381</td>\n",
       "      <td>0.019143</td>\n",
       "    </tr>\n",
       "    <tr>\n",
       "      <th>2007-02-13</th>\n",
       "      <td>0.003105</td>\n",
       "      <td>-0.003303</td>\n",
       "    </tr>\n",
       "    <tr>\n",
       "      <th>2007-02-14</th>\n",
       "      <td>0.012665</td>\n",
       "      <td>0.008237</td>\n",
       "    </tr>\n",
       "    <tr>\n",
       "      <th>...</th>\n",
       "      <td>...</td>\n",
       "      <td>...</td>\n",
       "    </tr>\n",
       "    <tr>\n",
       "      <th>2017-07-10</th>\n",
       "      <td>0.007458</td>\n",
       "      <td>0.006085</td>\n",
       "    </tr>\n",
       "    <tr>\n",
       "      <th>2017-07-11</th>\n",
       "      <td>0.000143</td>\n",
       "      <td>0.003235</td>\n",
       "    </tr>\n",
       "    <tr>\n",
       "      <th>2017-07-12</th>\n",
       "      <td>0.016438</td>\n",
       "      <td>0.001442</td>\n",
       "    </tr>\n",
       "    <tr>\n",
       "      <th>2017-07-13</th>\n",
       "      <td>0.008676</td>\n",
       "      <td>0.013833</td>\n",
       "    </tr>\n",
       "    <tr>\n",
       "      <th>2017-07-14</th>\n",
       "      <td>0.013975</td>\n",
       "      <td>0.008558</td>\n",
       "    </tr>\n",
       "    <tr>\n",
       "      <th>2017-07-17</th>\n",
       "      <td>0.007801</td>\n",
       "      <td>0.003483</td>\n",
       "    </tr>\n",
       "    <tr>\n",
       "      <th>2017-07-18</th>\n",
       "      <td>-0.000682</td>\n",
       "      <td>0.003471</td>\n",
       "    </tr>\n",
       "    <tr>\n",
       "      <th>2017-07-19</th>\n",
       "      <td>0.007611</td>\n",
       "      <td>0.006244</td>\n",
       "    </tr>\n",
       "    <tr>\n",
       "      <th>2017-07-20</th>\n",
       "      <td>0.004862</td>\n",
       "      <td>-0.004513</td>\n",
       "    </tr>\n",
       "    <tr>\n",
       "      <th>2017-07-21</th>\n",
       "      <td>-0.005810</td>\n",
       "      <td>-0.000466</td>\n",
       "    </tr>\n",
       "    <tr>\n",
       "      <th>2017-07-24</th>\n",
       "      <td>-0.002578</td>\n",
       "      <td>0.012039</td>\n",
       "    </tr>\n",
       "    <tr>\n",
       "      <th>2017-07-25</th>\n",
       "      <td>0.007984</td>\n",
       "      <td>0.004265</td>\n",
       "    </tr>\n",
       "    <tr>\n",
       "      <th>2017-07-26</th>\n",
       "      <td>-0.001889</td>\n",
       "      <td>0.004703</td>\n",
       "    </tr>\n",
       "    <tr>\n",
       "      <th>2017-07-27</th>\n",
       "      <td>-0.012092</td>\n",
       "      <td>-0.019078</td>\n",
       "    </tr>\n",
       "    <tr>\n",
       "      <th>2017-07-28</th>\n",
       "      <td>-0.001642</td>\n",
       "      <td>-0.007065</td>\n",
       "    </tr>\n",
       "    <tr>\n",
       "      <th>2017-07-31</th>\n",
       "      <td>-0.004666</td>\n",
       "      <td>-0.005164</td>\n",
       "    </tr>\n",
       "    <tr>\n",
       "      <th>2017-08-01</th>\n",
       "      <td>-0.001652</td>\n",
       "      <td>0.008836</td>\n",
       "    </tr>\n",
       "    <tr>\n",
       "      <th>2017-08-02</th>\n",
       "      <td>-0.004419</td>\n",
       "      <td>0.046169</td>\n",
       "    </tr>\n",
       "    <tr>\n",
       "      <th>2017-08-03</th>\n",
       "      <td>-0.001523</td>\n",
       "      <td>-0.010041</td>\n",
       "    </tr>\n",
       "    <tr>\n",
       "      <th>2017-08-04</th>\n",
       "      <td>0.007319</td>\n",
       "      <td>0.005257</td>\n",
       "    </tr>\n",
       "    <tr>\n",
       "      <th>2017-08-07</th>\n",
       "      <td>-0.003860</td>\n",
       "      <td>0.015356</td>\n",
       "    </tr>\n",
       "    <tr>\n",
       "      <th>2017-08-08</th>\n",
       "      <td>0.005372</td>\n",
       "      <td>0.007965</td>\n",
       "    </tr>\n",
       "    <tr>\n",
       "      <th>2017-08-09</th>\n",
       "      <td>-0.004406</td>\n",
       "      <td>0.006103</td>\n",
       "    </tr>\n",
       "    <tr>\n",
       "      <th>2017-08-10</th>\n",
       "      <td>-0.014735</td>\n",
       "      <td>-0.036289</td>\n",
       "    </tr>\n",
       "    <tr>\n",
       "      <th>2017-08-11</th>\n",
       "      <td>0.015149</td>\n",
       "      <td>0.013811</td>\n",
       "    </tr>\n",
       "    <tr>\n",
       "      <th>2017-08-14</th>\n",
       "      <td>0.014923</td>\n",
       "      <td>0.014937</td>\n",
       "    </tr>\n",
       "    <tr>\n",
       "      <th>2017-08-15</th>\n",
       "      <td>-0.005041</td>\n",
       "      <td>0.010888</td>\n",
       "    </tr>\n",
       "    <tr>\n",
       "      <th>2017-08-16</th>\n",
       "      <td>0.005856</td>\n",
       "      <td>-0.004030</td>\n",
       "    </tr>\n",
       "    <tr>\n",
       "      <th>2017-08-17</th>\n",
       "      <td>-0.017118</td>\n",
       "      <td>-0.019385</td>\n",
       "    </tr>\n",
       "    <tr>\n",
       "      <th>2017-08-18</th>\n",
       "      <td>0.001242</td>\n",
       "      <td>-0.002283</td>\n",
       "    </tr>\n",
       "  </tbody>\n",
       "</table>\n",
       "<p>2676 rows × 2 columns</p>\n",
       "</div>"
      ],
      "text/plain": [
       "                MSFT      AAPL\n",
       "Date                          \n",
       "2007-01-03       NaN       NaN\n",
       "2007-01-04 -0.001676  0.022306\n",
       "2007-01-05 -0.005719 -0.007380\n",
       "2007-01-08  0.009737  0.004926\n",
       "2007-01-09  0.001002  0.079476\n",
       "2007-01-10 -0.010064  0.047276\n",
       "2007-01-11  0.034463 -0.012341\n",
       "2007-01-12  0.016476 -0.012496\n",
       "2007-01-16 -0.001603  0.025558\n",
       "2007-01-17 -0.001927 -0.022604\n",
       "2007-01-18 -0.003221 -0.063949\n",
       "2007-01-19  0.003542 -0.006309\n",
       "2007-01-22 -0.012615 -0.019170\n",
       "2007-01-23  0.000651 -0.012987\n",
       "2007-01-24  0.011321  0.012180\n",
       "2007-01-25 -0.020800 -0.005666\n",
       "2007-01-26  0.004914 -0.009788\n",
       "2007-01-29 -0.002290  0.006536\n",
       "2007-01-30 -0.001639 -0.004898\n",
       "2007-01-31  0.012390  0.002452\n",
       "2007-02-01 -0.009769 -0.011494\n",
       "2007-02-02 -0.012181  0.000000\n",
       "2007-02-05 -0.019399 -0.009959\n",
       "2007-02-06 -0.003383  0.002499\n",
       "2007-02-07 -0.004755  0.023840\n",
       "2007-02-08 -0.003752  0.000000\n",
       "2007-02-09 -0.009615 -0.033874\n",
       "2007-02-12 -0.001381  0.019143\n",
       "2007-02-13  0.003105 -0.003303\n",
       "2007-02-14  0.012665  0.008237\n",
       "...              ...       ...\n",
       "2017-07-10  0.007458  0.006085\n",
       "2017-07-11  0.000143  0.003235\n",
       "2017-07-12  0.016438  0.001442\n",
       "2017-07-13  0.008676  0.013833\n",
       "2017-07-14  0.013975  0.008558\n",
       "2017-07-17  0.007801  0.003483\n",
       "2017-07-18 -0.000682  0.003471\n",
       "2017-07-19  0.007611  0.006244\n",
       "2017-07-20  0.004862 -0.004513\n",
       "2017-07-21 -0.005810 -0.000466\n",
       "2017-07-24 -0.002578  0.012039\n",
       "2017-07-25  0.007984  0.004265\n",
       "2017-07-26 -0.001889  0.004703\n",
       "2017-07-27 -0.012092 -0.019078\n",
       "2017-07-28 -0.001642 -0.007065\n",
       "2017-07-31 -0.004666 -0.005164\n",
       "2017-08-01 -0.001652  0.008836\n",
       "2017-08-02 -0.004419  0.046169\n",
       "2017-08-03 -0.001523 -0.010041\n",
       "2017-08-04  0.007319  0.005257\n",
       "2017-08-07 -0.003860  0.015356\n",
       "2017-08-08  0.005372  0.007965\n",
       "2017-08-09 -0.004406  0.006103\n",
       "2017-08-10 -0.014735 -0.036289\n",
       "2017-08-11  0.015149  0.013811\n",
       "2017-08-14  0.014923  0.014937\n",
       "2017-08-15 -0.005041  0.010888\n",
       "2017-08-16  0.005856 -0.004030\n",
       "2017-08-17 -0.017118 -0.019385\n",
       "2017-08-18  0.001242 -0.002283\n",
       "\n",
       "[2676 rows x 2 columns]"
      ]
     },
     "execution_count": 2,
     "metadata": {},
     "output_type": "execute_result"
    }
   ],
   "source": [
    "import numpy as np\n",
    "import pandas as pd\n",
    "from pandas_datareader import data as wb\n",
    "import matplotlib.pyplot as plt\n",
    "\n",
    "tickers = ['MSFT', 'AAPL']\n",
    "\n",
    "sec_data = pd.DataFrame()\n",
    "\n",
    "for t in tickers:\n",
    "    sec_data[t] = wb.DataReader(t, data_source='google', start='2007-1-1')['Close']\n",
    "    \n",
    "sec_return = np.log(sec_data / sec_data.shift(1))\n",
    "sec_return"
   ]
  },
  {
   "cell_type": "markdown",
   "metadata": {},
   "source": [
    "### MSFT"
   ]
  },
  {
   "cell_type": "markdown",
   "metadata": {},
   "source": [
    "Daily risk:"
   ]
  },
  {
   "cell_type": "code",
   "execution_count": 3,
   "metadata": {},
   "outputs": [
    {
     "data": {
      "text/plain": [
       "0.017398288426329806"
      ]
     },
     "execution_count": 3,
     "metadata": {},
     "output_type": "execute_result"
    }
   ],
   "source": [
    "sec_return[\"MSFT\"].std()"
   ]
  },
  {
   "cell_type": "markdown",
   "metadata": {},
   "source": [
    "Annual risk:"
   ]
  },
  {
   "cell_type": "code",
   "execution_count": 7,
   "metadata": {},
   "outputs": [
    {
     "data": {
      "text/plain": [
       "0.27509109407874405"
      ]
     },
     "execution_count": 7,
     "metadata": {},
     "output_type": "execute_result"
    }
   ],
   "source": [
    "sec_return[\"MSFT\"].std() * 250 ** 0.5"
   ]
  },
  {
   "cell_type": "markdown",
   "metadata": {},
   "source": [
    "### Apple"
   ]
  },
  {
   "cell_type": "markdown",
   "metadata": {},
   "source": [
    "Daily risk:"
   ]
  },
  {
   "cell_type": "code",
   "execution_count": null,
   "metadata": {
    "collapsed": true
   },
   "outputs": [],
   "source": [
    "sec_return[\"AAPL\"].std()"
   ]
  },
  {
   "cell_type": "markdown",
   "metadata": {},
   "source": [
    "Annual risk:"
   ]
  },
  {
   "cell_type": "code",
   "execution_count": 8,
   "metadata": {},
   "outputs": [
    {
     "data": {
      "text/plain": [
       "0.3217819807998841"
      ]
     },
     "execution_count": 8,
     "metadata": {},
     "output_type": "execute_result"
    }
   ],
   "source": [
    "sec_return[\"AAPL\"].std() * 250 ** 0.5"
   ]
  },
  {
   "cell_type": "markdown",
   "metadata": {},
   "source": [
    "******"
   ]
  },
  {
   "cell_type": "markdown",
   "metadata": {},
   "source": [
    "Store the volatilities of the two stocks in an array called “vols”."
   ]
  },
  {
   "cell_type": "code",
   "execution_count": 12,
   "metadata": {},
   "outputs": [
    {
     "data": {
      "text/plain": [
       "MSFT    0.275091\n",
       "AAPL    0.321782\n",
       "dtype: float64"
      ]
     },
     "execution_count": 12,
     "metadata": {},
     "output_type": "execute_result"
    }
   ],
   "source": [
    "vols = sec_return[[\"MSFT\", \"AAPL\"]].std() * 250 ** 0.5\n",
    "vols"
   ]
  },
  {
   "cell_type": "markdown",
   "metadata": {},
   "source": [
    "How are the two risk values different?"
   ]
  }
 ],
 "metadata": {
  "kernelspec": {
   "display_name": "Python 3",
   "language": "python",
   "name": "python3"
  },
  "language_info": {
   "codemirror_mode": {
    "name": "ipython",
    "version": 3
   },
   "file_extension": ".py",
   "mimetype": "text/x-python",
   "name": "python",
   "nbconvert_exporter": "python",
   "pygments_lexer": "ipython3",
   "version": "3.7.1"
  }
 },
 "nbformat": 4,
 "nbformat_minor": 2
}
